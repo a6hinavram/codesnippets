{
 "cells": [
  {
   "cell_type": "markdown",
   "metadata": {},
   "source": [
    "# 1 Syntax"
   ]
  },
  {
   "cell_type": "markdown",
   "metadata": {},
   "source": [
    "## Hello World Program"
   ]
  },
  {
   "cell_type": "code",
   "execution_count": 16,
   "metadata": {
    "scrolled": true
   },
   "outputs": [
    {
     "name": "stdout",
     "output_type": "stream",
     "text": [
      "Hello World\n"
     ]
    }
   ],
   "source": [
    "print(\"Hello World\")"
   ]
  },
  {
   "cell_type": "markdown",
   "metadata": {},
   "source": [
    "-------------------------------------------"
   ]
  },
  {
   "cell_type": "markdown",
   "metadata": {},
   "source": [
    "## Indentation\n",
    "Indentation refers to the spaces at the beginning of a code line.\n",
    "Where in other programming languages the indentation in code is for readability only, the indentation in Python is very important.\n",
    "Python uses indentation to indicate a block of code."
   ]
  },
  {
   "cell_type": "code",
   "execution_count": 17,
   "metadata": {},
   "outputs": [
    {
     "ename": "IndentationError",
     "evalue": "expected an indented block (<ipython-input-17-a314491c53bb>, line 2)",
     "output_type": "error",
     "traceback": [
      "\u001b[1;36m  File \u001b[1;32m\"<ipython-input-17-a314491c53bb>\"\u001b[1;36m, line \u001b[1;32m2\u001b[0m\n\u001b[1;33m    print(\"Five is greater than two!\")\u001b[0m\n\u001b[1;37m        ^\u001b[0m\n\u001b[1;31mIndentationError\u001b[0m\u001b[1;31m:\u001b[0m expected an indented block\n"
     ]
    }
   ],
   "source": [
    "if 5 > 2:\n",
    "print(\"Five is greater than two!\")"
   ]
  },
  {
   "cell_type": "code",
   "execution_count": 18,
   "metadata": {},
   "outputs": [
    {
     "name": "stdout",
     "output_type": "stream",
     "text": [
      "Five is greater than two!\n"
     ]
    }
   ],
   "source": [
    "if 5 > 2:\n",
    " print(\"Five is greater than two!\")"
   ]
  },
  {
   "cell_type": "code",
   "execution_count": 19,
   "metadata": {},
   "outputs": [
    {
     "name": "stdout",
     "output_type": "stream",
     "text": [
      "Five is greater than two!\n"
     ]
    }
   ],
   "source": [
    "if 5 > 2:\n",
    "  print(\"Five is greater than two!\")"
   ]
  },
  {
   "cell_type": "code",
   "execution_count": 20,
   "metadata": {},
   "outputs": [
    {
     "name": "stdout",
     "output_type": "stream",
     "text": [
      "Five is greater than two!\n"
     ]
    }
   ],
   "source": [
    "if 5 > 2:\n",
    "    print(\"Five is greater than two!\")"
   ]
  },
  {
   "cell_type": "markdown",
   "metadata": {},
   "source": [
    "--------------------------------------------------------"
   ]
  },
  {
   "cell_type": "markdown",
   "metadata": {},
   "source": [
    "## Comments"
   ]
  },
  {
   "cell_type": "code",
   "execution_count": 22,
   "metadata": {},
   "outputs": [
    {
     "name": "stdout",
     "output_type": "stream",
     "text": [
      "Hello, World!\n",
      "Hello, World!\n",
      "Hello, World!\n",
      "Hello, World!\n"
     ]
    }
   ],
   "source": [
    "#This is a comment.\n",
    "print(\"Hello, World!\")\n",
    "\n",
    "print(\"Hello, World!\") #This is a comment\n",
    "\n",
    "#This is a comment\n",
    "#written in\n",
    "#more than just one line\n",
    "print(\"Hello, World!\")\n",
    "\n",
    "\"\"\"\n",
    "This is a comment\n",
    "written in\n",
    "more than just one line\n",
    "\"\"\"\n",
    "print(\"Hello, World!\")"
   ]
  },
  {
   "cell_type": "markdown",
   "metadata": {},
   "source": [
    "-----------------------------------------"
   ]
  },
  {
   "cell_type": "markdown",
   "metadata": {},
   "source": [
    "# 2 Variables"
   ]
  },
  {
   "cell_type": "code",
   "execution_count": 23,
   "metadata": {},
   "outputs": [
    {
     "name": "stdout",
     "output_type": "stream",
     "text": [
      "5\n",
      "John\n"
     ]
    }
   ],
   "source": [
    "# Creating Variables\n",
    "x = 5\n",
    "y = \"John\"\n",
    "print(x)\n",
    "print(y)"
   ]
  },
  {
   "cell_type": "markdown",
   "metadata": {},
   "source": [
    "## 2.1 Variables Names"
   ]
  },
  {
   "cell_type": "markdown",
   "metadata": {},
   "source": [
    "__A variable name must start with a letter or the underscore character__\n",
    "A variable name can only contain alpha-numeric characters and underscores (A-z, 0-9, and _ )"
   ]
  },
  {
   "cell_type": "code",
   "execution_count": 25,
   "metadata": {},
   "outputs": [
    {
     "name": "stdout",
     "output_type": "stream",
     "text": [
      "5\n",
      "1\n"
     ]
    }
   ],
   "source": [
    "a = 5\n",
    "_ = 1\n",
    "print(a)\n",
    "print(_)"
   ]
  },
  {
   "cell_type": "markdown",
   "metadata": {},
   "source": [
    "__A variable name cannot start with a number__"
   ]
  },
  {
   "cell_type": "code",
   "execution_count": 26,
   "metadata": {},
   "outputs": [
    {
     "ename": "SyntaxError",
     "evalue": "can't assign to literal (<ipython-input-26-b011b4bf596a>, line 1)",
     "output_type": "error",
     "traceback": [
      "\u001b[1;36m  File \u001b[1;32m\"<ipython-input-26-b011b4bf596a>\"\u001b[1;36m, line \u001b[1;32m1\u001b[0m\n\u001b[1;33m    1 = \"hello\"\u001b[0m\n\u001b[1;37m               ^\u001b[0m\n\u001b[1;31mSyntaxError\u001b[0m\u001b[1;31m:\u001b[0m can't assign to literal\n"
     ]
    }
   ],
   "source": [
    "1 = \"hello\""
   ]
  },
  {
   "cell_type": "markdown",
   "metadata": {},
   "source": [
    "__Variable names are case-sensitive (age, Age and AGE are three different variables)__"
   ]
  },
  {
   "cell_type": "code",
   "execution_count": 28,
   "metadata": {},
   "outputs": [
    {
     "name": "stdout",
     "output_type": "stream",
     "text": [
      "5\n",
      "10\n"
     ]
    },
    {
     "ename": "NameError",
     "evalue": "name 'B' is not defined",
     "output_type": "error",
     "traceback": [
      "\u001b[1;31m---------------------------------------------------------------------------\u001b[0m",
      "\u001b[1;31mNameError\u001b[0m                                 Traceback (most recent call last)",
      "\u001b[1;32m<ipython-input-28-399e773cc04a>\u001b[0m in \u001b[0;36m<module>\u001b[1;34m\u001b[0m\n\u001b[0;32m      4\u001b[0m \u001b[0mprint\u001b[0m\u001b[1;33m(\u001b[0m\u001b[0ma\u001b[0m\u001b[1;33m)\u001b[0m\u001b[1;33m\u001b[0m\u001b[1;33m\u001b[0m\u001b[0m\n\u001b[0;32m      5\u001b[0m \u001b[0mprint\u001b[0m\u001b[1;33m(\u001b[0m\u001b[0mA\u001b[0m\u001b[1;33m)\u001b[0m\u001b[1;33m\u001b[0m\u001b[1;33m\u001b[0m\u001b[0m\n\u001b[1;32m----> 6\u001b[1;33m \u001b[0mprint\u001b[0m\u001b[1;33m(\u001b[0m\u001b[0mB\u001b[0m\u001b[1;33m)\u001b[0m\u001b[1;33m\u001b[0m\u001b[1;33m\u001b[0m\u001b[0m\n\u001b[0m",
      "\u001b[1;31mNameError\u001b[0m: name 'B' is not defined"
     ]
    }
   ],
   "source": [
    "a = 5\n",
    "A = 10\n",
    "b = 20\n",
    "print(a)\n",
    "print(A)\n",
    "print(B)"
   ]
  },
  {
   "cell_type": "markdown",
   "metadata": {},
   "source": [
    "__Assign Value to Multiple Variables__"
   ]
  },
  {
   "cell_type": "code",
   "execution_count": 34,
   "metadata": {},
   "outputs": [
    {
     "name": "stdout",
     "output_type": "stream",
     "text": [
      "6\n",
      "30\n"
     ]
    }
   ],
   "source": [
    "#assign values to multiple variables in one line\n",
    "x,y,z = (1,2,3)\n",
    "print(x+y+z)\n",
    "\n",
    "#assign the same value to multiple variables in one line\n",
    "a = b = c = 10\n",
    "print(a+b+c)\n"
   ]
  },
  {
   "cell_type": "markdown",
   "metadata": {},
   "source": [
    "## 2.1 Output Variables"
   ]
  },
  {
   "cell_type": "markdown",
   "metadata": {},
   "source": [
    "The Python print statement is often used to output variables.\n",
    "To combine both text and a variable, Python uses the + character:"
   ]
  },
  {
   "cell_type": "code",
   "execution_count": 40,
   "metadata": {},
   "outputs": [
    {
     "name": "stdout",
     "output_type": "stream",
     "text": [
      "Value of B:satya\n",
      "Value of A: 10\n"
     ]
    },
    {
     "ename": "TypeError",
     "evalue": "must be str, not int",
     "output_type": "error",
     "traceback": [
      "\u001b[1;31m---------------------------------------------------------------------------\u001b[0m",
      "\u001b[1;31mTypeError\u001b[0m                                 Traceback (most recent call last)",
      "\u001b[1;32m<ipython-input-40-392294ca10c1>\u001b[0m in \u001b[0;36m<module>\u001b[1;34m\u001b[0m\n\u001b[0;32m      4\u001b[0m \u001b[0ma\u001b[0m \u001b[1;33m=\u001b[0m \u001b[1;36m10\u001b[0m\u001b[1;33m\u001b[0m\u001b[1;33m\u001b[0m\u001b[0m\n\u001b[0;32m      5\u001b[0m \u001b[0mprint\u001b[0m\u001b[1;33m(\u001b[0m\u001b[1;34m\"Value of A: \"\u001b[0m\u001b[1;33m+\u001b[0m\u001b[0mstr\u001b[0m\u001b[1;33m(\u001b[0m\u001b[0ma\u001b[0m\u001b[1;33m)\u001b[0m\u001b[1;33m)\u001b[0m\u001b[1;33m\u001b[0m\u001b[1;33m\u001b[0m\u001b[0m\n\u001b[1;32m----> 6\u001b[1;33m \u001b[0mprint\u001b[0m\u001b[1;33m(\u001b[0m\u001b[1;34m\"Value of A: \"\u001b[0m\u001b[1;33m+\u001b[0m \u001b[0ma\u001b[0m\u001b[1;33m)\u001b[0m \u001b[1;31m#TypeError: must be str, not int\u001b[0m\u001b[1;33m\u001b[0m\u001b[1;33m\u001b[0m\u001b[0m\n\u001b[0m\u001b[0;32m      7\u001b[0m \u001b[1;33m\u001b[0m\u001b[0m\n",
      "\u001b[1;31mTypeError\u001b[0m: must be str, not int"
     ]
    }
   ],
   "source": [
    "b = \"satya\"\n",
    "print(\"Value of B:\"+b)\n",
    "\n",
    "a = 10\n",
    "print(\"Value of A: \"+str(a))\n",
    "print(\"Value of A: \"+ a) #TypeError: must be str, not int\n",
    "\n"
   ]
  },
  {
   "cell_type": "markdown",
   "metadata": {},
   "source": [
    "## 2.2 Global Variables\n",
    "Variables that are created outside of a function (as in all of the examples above) are known as global variables."
   ]
  },
  {
   "cell_type": "code",
   "execution_count": 42,
   "metadata": {},
   "outputs": [
    {
     "name": "stdout",
     "output_type": "stream",
     "text": [
      "Hello World\n"
     ]
    }
   ],
   "source": [
    "def myFun():\n",
    "    print(\"Hello World\")\n",
    "\n",
    "myFun()"
   ]
  },
  {
   "cell_type": "code",
   "execution_count": 45,
   "metadata": {},
   "outputs": [
    {
     "name": "stdout",
     "output_type": "stream",
     "text": [
      "Hello World\n",
      "global a = 10\n"
     ]
    }
   ],
   "source": [
    "a = 10\n",
    "def myFun():\n",
    "    print(\"Hello World\")\n",
    "    print(\"global a = \" + str(a))\n",
    "\n",
    "myFun()"
   ]
  },
  {
   "cell_type": "code",
   "execution_count": 46,
   "metadata": {},
   "outputs": [
    {
     "name": "stdout",
     "output_type": "stream",
     "text": [
      "Hello World\n",
      "global a = 20\n"
     ]
    }
   ],
   "source": [
    "a = 10\n",
    "def myFun():\n",
    "    #local var\n",
    "    a = 20\n",
    "    print(\"Hello World\")\n",
    "    print(\"global a = \" + str(a))\n",
    "\n",
    "myFun()"
   ]
  },
  {
   "cell_type": "code",
   "execution_count": 48,
   "metadata": {},
   "outputs": [
    {
     "ename": "SyntaxError",
     "evalue": "name 'a' is assigned to before global declaration (<ipython-input-48-b2317bdb39fd>, line 8)",
     "output_type": "error",
     "traceback": [
      "\u001b[1;36m  File \u001b[1;32m\"<ipython-input-48-b2317bdb39fd>\"\u001b[1;36m, line \u001b[1;32m8\u001b[0m\n\u001b[1;33m    print(\"global a = \" + str(a))\u001b[0m\n\u001b[1;37m           ^\u001b[0m\n\u001b[1;31mSyntaxError\u001b[0m\u001b[1;31m:\u001b[0m name 'a' is assigned to before global declaration\n"
     ]
    }
   ],
   "source": [
    "a = 10\n",
    "def myFun():\n",
    "    #local var\n",
    "    a = 20\n",
    "    global a\n",
    "    print(\"Hello World\")\n",
    "    \n",
    "    print(\"global a = \" + str(a))\n",
    "\n",
    "myFun()"
   ]
  },
  {
   "cell_type": "code",
   "execution_count": 50,
   "metadata": {},
   "outputs": [
    {
     "name": "stdout",
     "output_type": "stream",
     "text": [
      "global a = 20\n",
      "global a = 10\n"
     ]
    }
   ],
   "source": [
    "a = 10\n",
    "def myFun():\n",
    "    a = 20    \n",
    "    print(\"global a = \" + str(a))\n",
    "\n",
    "myFun()\n",
    "print(\"global a = \" + str(a))"
   ]
  },
  {
   "cell_type": "code",
   "execution_count": 51,
   "metadata": {},
   "outputs": [
    {
     "name": "stdout",
     "output_type": "stream",
     "text": [
      "global a = 20\n",
      "global a = 20\n"
     ]
    }
   ],
   "source": [
    "a = 10\n",
    "def myFun():\n",
    "    global a \n",
    "    a = 20    \n",
    "    print(\"global a = \" + str(a))\n",
    "\n",
    "myFun()\n",
    "print(\"global a = \" + str(a))"
   ]
  },
  {
   "cell_type": "markdown",
   "metadata": {},
   "source": [
    "## Adding 2 Numbers"
   ]
  },
  {
   "cell_type": "code",
   "execution_count": 3,
   "metadata": {},
   "outputs": [
    {
     "name": "stdout",
     "output_type": "stream",
     "text": [
      "C= 15\n"
     ]
    }
   ],
   "source": [
    "a = 10\n",
    "b = 5\n",
    "c = a + b\n",
    "print(\"C=\",c);"
   ]
  },
  {
   "cell_type": "markdown",
   "metadata": {},
   "source": [
    "### Adding the numbers entered by User"
   ]
  },
  {
   "cell_type": "code",
   "execution_count": 4,
   "metadata": {},
   "outputs": [
    {
     "name": "stdout",
     "output_type": "stream",
     "text": [
      "Enter A:10\n",
      "Enter B:5\n",
      "C= 105\n"
     ]
    }
   ],
   "source": [
    "a = input(\"Enter A:\")\n",
    "b = input(\"Enter B:\")\n",
    "c = a+b\n",
    "print(\"C=\",c);"
   ]
  },
  {
   "cell_type": "code",
   "execution_count": 5,
   "metadata": {},
   "outputs": [
    {
     "name": "stdout",
     "output_type": "stream",
     "text": [
      "Enter A:10\n",
      "Enter B:5\n",
      "C= 15\n"
     ]
    }
   ],
   "source": [
    "a = int(input(\"Enter A:\"))\n",
    "b = int(input(\"Enter B:\"))\n",
    "c = a+b\n",
    "print(\"C=\",c);"
   ]
  },
  {
   "cell_type": "markdown",
   "metadata": {},
   "source": [
    "# If Else"
   ]
  },
  {
   "cell_type": "code",
   "execution_count": 14,
   "metadata": {},
   "outputs": [
    {
     "name": "stdout",
     "output_type": "stream",
     "text": [
      "Hello World\n"
     ]
    }
   ],
   "source": [
    "flag = True\n",
    "if flag == True:\n",
    " print(\"Hello World\")"
   ]
  },
  {
   "cell_type": "code",
   "execution_count": 15,
   "metadata": {},
   "outputs": [],
   "source": [
    "flag = False\n",
    "if flag == True:\n",
    " print(\"Hello World\")"
   ]
  },
  {
   "cell_type": "code",
   "execution_count": 7,
   "metadata": {},
   "outputs": [
    {
     "name": "stdout",
     "output_type": "stream",
     "text": [
      "False\n",
      "True\n"
     ]
    }
   ],
   "source": [
    "a = 10\n",
    "b = 20\n",
    "print ( a>b)\n",
    "print (a<b)"
   ]
  },
  {
   "cell_type": "code",
   "execution_count": 9,
   "metadata": {},
   "outputs": [
    {
     "name": "stdout",
     "output_type": "stream",
     "text": [
      "B is Big\n"
     ]
    }
   ],
   "source": [
    "a = 10\n",
    "b = 20\n",
    "if(a>b):\n",
    "    print(\"A is Big\")\n",
    "else:\n",
    "    print(\"B is Big\")"
   ]
  },
  {
   "cell_type": "code",
   "execution_count": 11,
   "metadata": {},
   "outputs": [
    {
     "name": "stdout",
     "output_type": "stream",
     "text": [
      "B is Big\n"
     ]
    }
   ],
   "source": [
    "a = 10\n",
    "b = 20\n",
    "if(a>b):\n",
    " print(\"A is Big\")\n",
    "elif(b>a):\n",
    " print(\"B is Big\")\n",
    "    "
   ]
  },
  {
   "cell_type": "code",
   "execution_count": 12,
   "metadata": {},
   "outputs": [],
   "source": [
    "a = 10\n",
    "b = 10\n",
    "if(a>b):\n",
    " print(\"A is Big\")\n",
    "elif(b>a):\n",
    " print(\"B is Big\")"
   ]
  },
  {
   "cell_type": "code",
   "execution_count": 13,
   "metadata": {},
   "outputs": [
    {
     "name": "stdout",
     "output_type": "stream",
     "text": [
      "Both are same\n"
     ]
    }
   ],
   "source": [
    "a = 10\n",
    "b = 10\n",
    "if(a>b):\n",
    " print(\"A is Big\")\n",
    "elif(b>a):\n",
    " print(\"B is Big\")\n",
    "else:\n",
    " print(\"Both are same\")"
   ]
  },
  {
   "cell_type": "markdown",
   "metadata": {},
   "source": [
    "# Data Types"
   ]
  },
  {
   "cell_type": "markdown",
   "metadata": {},
   "source": [
    "## 1 String"
   ]
  },
  {
   "cell_type": "code",
   "execution_count": 52,
   "metadata": {},
   "outputs": [
    {
     "name": "stdout",
     "output_type": "stream",
     "text": [
      "Hello World\n",
      "<class 'str'>\n"
     ]
    }
   ],
   "source": [
    "a = \"Hello World\"\n",
    "b = 'Hello World'\n",
    "c = '''Hello \n",
    "World'''\n",
    "d = \"\"\"Hello World\"\"\"\n",
    "print(a)\n",
    "print(type(a))"
   ]
  },
  {
   "cell_type": "markdown",
   "metadata": {},
   "source": [
    "## 2 Int Float Complex"
   ]
  },
  {
   "cell_type": "code",
   "execution_count": 58,
   "metadata": {},
   "outputs": [
    {
     "name": "stdout",
     "output_type": "stream",
     "text": [
      "20 : <class 'int'>\n",
      "20.5 : <class 'float'>\n",
      "1j : <class 'complex'>\n"
     ]
    }
   ],
   "source": [
    "a = 20; #int\n",
    "b = 20.5 #float\n",
    "c = 1j; #complex\n",
    "print(str(a) +\" : \"+ str(type(a)))\n",
    "print(str(b) +\" : \"+ str(type(b)))\n",
    "print(str(c) +\" : \"+ str(type(c)))\n"
   ]
  },
  {
   "cell_type": "markdown",
   "metadata": {},
   "source": [
    "## 3 Collections"
   ]
  },
  {
   "cell_type": "markdown",
   "metadata": {},
   "source": [
    "### 3.1 List\n",
    "List is a collection which is ordered and changeable. Allows duplicate members."
   ]
  },
  {
   "cell_type": "code",
   "execution_count": 95,
   "metadata": {
    "scrolled": false
   },
   "outputs": [
    {
     "name": "stdout",
     "output_type": "stream",
     "text": [
      "['apple', 'banana', 'orange']\n",
      "<class 'list'>\n",
      "apple\n",
      "orange\n",
      "orange\n",
      "banana\n",
      "['banana', 'orange']\n",
      "['apple', 'banana']\n",
      "['orange']\n",
      "['apple', 'banana', 'orange']\n",
      "['apple', 'Banana', 'orange']\n",
      "apple\n",
      "Banana\n",
      "orange\n",
      "Yes, 'orange' is in the fruits list\n",
      "3\n",
      "['apple', 'Banana', 'orange', 'Kiwi', 'Mango']\n",
      "['apple', 'Banana', 'orange', 'Cherry', 'Kiwi', 'Mango']\n",
      "['apple', 'Banana', 'orange', 'Kiwi', 'Mango']\n",
      "['apple', 'Banana', 'orange', 'Kiwi']\n",
      "['Banana', 'orange', 'Kiwi']\n",
      "<class 'list'>\n",
      "['apple', 'banana', 'cherry']\n",
      "['apple', 'banana', 'cherry']\n",
      "['a', 'b', 'c', 1, 2, 3]\n",
      "['a', 'b', 'c', 1, 2, 3]\n",
      "['apple', 'banana', 'cherry']\n"
     ]
    }
   ],
   "source": [
    "list = [\"apple\",\"banana\",\"orange\"]\n",
    "print(list) #['apple', 'banana', 'orange']\n",
    "print(type(list)) #<class 'list'>\n",
    "\n",
    "#Access Items by Index\n",
    "print(list[0]) #apple\n",
    "print(list[2]) #orange\n",
    "#print(list[3]) # IndexError: list index out of range\n",
    "\n",
    "print(list[-1]) #orange -- Negative indexing means beginning from the end, -1 refers to the last item, -2 refers to the second last item etc.\n",
    "print(list[-2]) #banana\n",
    "\n",
    "#Range of Indexes\n",
    "print(list[1:3]) #['banana', 'orange']\n",
    "print(list[:2]) #['apple', 'banana']\n",
    "print(list[2:]) #['orange']\n",
    "\n",
    "#Change Item Value\n",
    "print(list) #['apple', 'banana', 'orange']\n",
    "list[1] = \"Banana\"\n",
    "print(list) #['apple', 'Banana', 'orange']\n",
    "\n",
    "#Loop Through a List\n",
    "for item in list:\n",
    " print(item) #apple  Banana orange\n",
    "  \n",
    "#Check if Item Exists\n",
    "if \"orange\" in list:\n",
    "  print(\"Yes, 'orange' is in the fruits list\")\n",
    "\n",
    "#List Length\n",
    "print(len(list)) #3\n",
    "\n",
    "#Add Items\n",
    "#list[3] = \"Kiwi\" #IndexError: list assignment index out of range\n",
    "#To add an item at the specified index, use the insert() method\n",
    "list.insert(3, \"Kiwi\")\n",
    "\n",
    "#To add an item to the end of the list, use the append() method:\n",
    "list.append(\"Mango\")\n",
    "print(list) #['apple', 'Banana', 'orange', 'Kiwi', 'Mango']\n",
    "\n",
    "list.insert(3, \"Cherry\")\n",
    "print(list)  #['apple', 'Banana', 'orange', 'Cherry', 'Kiwi', 'Mango']\n",
    "\n",
    "#Remove Item\n",
    "#1 remove() method\n",
    "list.remove(\"Cherry\")\n",
    "print(list) #['apple', 'Banana', 'orange', 'Kiwi', 'Mango']\n",
    "\n",
    "#2 pop() method removes the specified index, (or the last item if index is not specified)\n",
    "list.pop()\n",
    "print(list) #['apple', 'Banana', 'orange', 'Kiwi']\n",
    "\n",
    "#3 The del keyword removes the specified index:\n",
    "del list[0]\n",
    "print(list) #['Banana', 'orange', 'Kiwi']\n",
    "\n",
    "#The del keyword can also delete the list completely\n",
    "del list \n",
    "print(list) #<class 'list'>\n",
    "#The clear() method empties the list:\n",
    "#list.clear()\n",
    "\n",
    "\n",
    "#Copy a List\n",
    "#You cannot copy a list simply by typing list2 = list1, because: list2 will only be a reference to list1, and changes made in list1 will automatically also be made in list2.\n",
    "#There are ways to make a copy, one way is to use the built-in List method copy().\n",
    "list1 = [\"apple\", \"banana\", \"cherry\"]\n",
    "list2 = list1.copy()\n",
    "print(list2) #['apple', 'banana', 'cherry']\n",
    "\n",
    "#Another way to make a copy is to use the built-in method list().\n",
    "list3 = list(list1);\n",
    "print(list3) #['apple', 'banana', 'cherry']\n",
    "\n",
    "#Join Two Lists\n",
    "list1 = [\"a\", \"b\" , \"c\"]\n",
    "list2 = [1, 2, 3]\n",
    "\n",
    "list3 = list1 + list2\n",
    "print(list3) #['a', 'b', 'c', 1, 2, 3]\n",
    "\n",
    "#Another way to join two lists are by appending all the items from list2 into list1, one by one\n",
    "#list1.append(x)\n",
    "\n",
    "#Or you can use the extend() method, which purpose is to add elements from one list to another list:\n",
    "list1 = [\"a\", \"b\" , \"c\"]\n",
    "list2 = [1, 2, 3]\n",
    "\n",
    "list1.extend(list2)\n",
    "print(list1) #['a', 'b', 'c', 1, 2, 3]\n",
    "\n",
    "\n",
    "#list() Constructor\n",
    "#It is also possible to use the list() constructor to make a new list.\n",
    "thislist = list((\"apple\", \"banana\", \"cherry\")) # note the double round-brackets\n",
    "print(thislist) #['apple', 'banana', 'cherry']\n",
    "\n"
   ]
  },
  {
   "cell_type": "markdown",
   "metadata": {},
   "source": [
    "### 3.2 Tuple\n",
    "Tuple is a collection which is ordered and unchangeable. Allows duplicate members.\n",
    "\n",
    "Once a tuple is created, you cannot change its values. Tuples are unchangeable, or immutable as it also is called.\n",
    "\n",
    "But there is a workaround. You can convert the tuple into a list, change the list, and convert the list back into a tuple."
   ]
  },
  {
   "cell_type": "code",
   "execution_count": 114,
   "metadata": {},
   "outputs": [
    {
     "name": "stdout",
     "output_type": "stream",
     "text": [
      "('banana', 'apple', 'cherry')\n",
      "banana\n",
      "('Orange', 'apple', 'cherry')\n",
      "Orange\n",
      "apple\n",
      "cherry\n",
      "Yes, 'apple' is in the fruits tuple\n",
      "3\n",
      "('a', 'b', 'c', 1, 2, 3)\n",
      "('apple', 'banana', 'cherry')\n",
      "0\n",
      "2\n"
     ]
    }
   ],
   "source": [
    "tuple1 = (\"banana\", \"apple\", \"cherry\")\n",
    "print(tuple1) #('banana', 'apple', 'cherry')\n",
    "\n",
    "#Access Tuple Items\n",
    "print(tuple1[0]) #banana\n",
    "\n",
    "#tuple1[0] = \"Orange\" #TypeError: 'tuple' object does not support item assignment\n",
    "\n",
    "#You can convert the tuple into a list, change the list, and convert the list back into a tuple.\n",
    "t1 = (\"banana\", \"apple\", \"cherry\")\n",
    "l1 = list(t1)\n",
    "l1[0] = \"Orange\"\n",
    "t1 = tuple(l1)\n",
    "print(t1) #('Orange', 'apple', 'cherry')\n",
    "\n",
    "#Loop Through a Tuple\n",
    "for item in t1:\n",
    "    print(item) #Orange apple cherry\n",
    "    \n",
    "    \n",
    "#Check if Item Exists\n",
    "thistuple = (\"apple\", \"banana\", \"cherry\")\n",
    "if \"apple\" in thistuple:\n",
    "  print(\"Yes, 'apple' is in the fruits tuple\")\n",
    "\n",
    "#Tuple Length\n",
    "print(len(t1)) #3\n",
    "\n",
    "#Remove Items: Tuples are unchangeable, so you cannot remove items from it, but you can delete the tuple completely:\n",
    "del t1\n",
    "\n",
    "#Join Two Tuples\n",
    "tuple1 = (\"a\", \"b\" , \"c\")\n",
    "tuple2 = (1, 2, 3)\n",
    "\n",
    "tuple3 = tuple1 + tuple2\n",
    "print(tuple3) #('a', 'b', 'c', 1, 2, 3)\n",
    "\n",
    "#tuple() Constructor\n",
    "thistuple = tuple((\"apple\", \"banana\", \"cherry\")) # note the double round-brackets\n",
    "print(thistuple)\n",
    "\n",
    "\n",
    "#Tuple Methods\n",
    "t1 = (\"a\",\"b\",\"c\",\"a\")\n",
    "print(t1.index(\"a\")) #0\n",
    "\n",
    "print(t1.count(\"a\")) #2\n",
    "\n",
    "\n"
   ]
  },
  {
   "cell_type": "markdown",
   "metadata": {},
   "source": [
    "### 3.3 Set\n",
    "Set is a collection which is unordered and unindexed. No duplicate members."
   ]
  },
  {
   "cell_type": "code",
   "execution_count": 120,
   "metadata": {},
   "outputs": [
    {
     "name": "stdout",
     "output_type": "stream",
     "text": [
      "{'apple', 'cherry', 'banana'}\n",
      "{'apple', 'cherry', 'banana'}\n"
     ]
    }
   ],
   "source": [
    "set1 = {\"apple\", \"banana\", \"cherry\"}\n",
    "print(set1) #{'apple', 'cherry', 'banana'}\n",
    "\n",
    "set1 = {\"apple\", \"banana\", \"cherry\",\"apple\"}\n",
    "print(set1) #{'apple', 'cherry', 'banana'}\n"
   ]
  },
  {
   "cell_type": "markdown",
   "metadata": {},
   "source": [
    "### 3.4 Dictionaries\n",
    "Dictionary is a collection which is unordered, changeable and indexed. No duplicate members."
   ]
  },
  {
   "cell_type": "code",
   "execution_count": 124,
   "metadata": {},
   "outputs": [
    {
     "name": "stdout",
     "output_type": "stream",
     "text": [
      "{'brand': 'Ford', 'model': 'Mustang', 'year': 1964}\n",
      "1964\n"
     ]
    }
   ],
   "source": [
    "thisdict = {\n",
    "  \"brand\": \"Ford\",\n",
    "  \"model\": \"Mustang\",\n",
    "  \"year\": 1964\n",
    "}\n",
    "print(thisdict) #{'brand': 'Ford', 'model': 'Mustang', 'year': 1964}\n",
    "print(thisdict.get('year')) #1964"
   ]
  },
  {
   "cell_type": "code",
   "execution_count": null,
   "metadata": {},
   "outputs": [],
   "source": []
  },
  {
   "cell_type": "code",
   "execution_count": null,
   "metadata": {},
   "outputs": [],
   "source": []
  },
  {
   "cell_type": "code",
   "execution_count": null,
   "metadata": {},
   "outputs": [],
   "source": []
  }
 ],
 "metadata": {
  "kernelspec": {
   "display_name": "Python 3",
   "language": "python",
   "name": "python3"
  },
  "language_info": {
   "codemirror_mode": {
    "name": "ipython",
    "version": 3
   },
   "file_extension": ".py",
   "mimetype": "text/x-python",
   "name": "python",
   "nbconvert_exporter": "python",
   "pygments_lexer": "ipython3",
   "version": "3.6.8"
  }
 },
 "nbformat": 4,
 "nbformat_minor": 2
}
